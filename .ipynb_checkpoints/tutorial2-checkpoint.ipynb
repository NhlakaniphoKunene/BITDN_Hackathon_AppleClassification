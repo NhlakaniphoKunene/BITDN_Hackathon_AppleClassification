{
 "cells": [
  {
   "cell_type": "markdown",
   "id": "bc53ee8f-85f2-4538-a4c4-ba2994de412d",
   "metadata": {},
   "source": [
    "# Tutorial 2: Baseline Calculation."
   ]
  },
  {
   "cell_type": "markdown",
   "id": "6990d828-0bd2-4980-bccf-4ac1c45e695c",
   "metadata": {},
   "source": [
    "---"
   ]
  },
  {
   "cell_type": "markdown",
   "id": "00b716c0-15ec-4865-9fc3-ef48c93f6229",
   "metadata": {},
   "source": [
    "### Introduction"
   ]
  },
  {
   "cell_type": "markdown",
   "id": "d2cf0528-c3f2-4596-91b8-2bc5c44e5b89",
   "metadata": {},
   "source": [
    "Before we try any feature engineering methods, we will need to build a basic statistical model to act as a baseline against more complicated techniques and pipelines. In this notebook, we will use logistic regression (LR) on the whole wavelength spectrum without any feature selection/reduction methods; such a method can be called a baseline.\n",
    "\n",
    "LR is a simple linear statistical method that can linearly classify objects. In this notebook, we will use LR to classify the apples between Sound `S` and Bruised`B`. Follow this [link](https://developers.google.com/machine-learning/crash-course/logistic-regression/video-lecture) to know more about LR\n",
    "\n",
    "If you are unfamiliar with the classification evaulation metrics (accuracy, precision and recall), you can look [here](https://developers.google.com/machine-learning/crash-course/classification/accuracy) and   [here](https://developers.google.com/machine-learning/crash-course/classification/precision-and-recall)."
   ]
  },
  {
   "cell_type": "markdown",
   "id": "f79df0d4-890e-4ac7-9974-ad1270aa5fe5",
   "metadata": {},
   "source": [
    "First we do the necessary imports."
   ]
  },
  {
   "cell_type": "code",
   "execution_count": 6,
   "id": "afe38816-b8e6-4261-a331-cd9af0a89f80",
   "metadata": {},
   "outputs": [],
   "source": [
    "# ___Cell no. 1___\n",
    "\n",
    "# Python packages \n",
    "import pandas as pd # for importing data into data frame format\n",
    "import seaborn as sns # For drawing useful graphs, such as bar graphs\n",
    "import numpy as np\n",
    "import matplotlib.pyplot as plt\n",
    "\n",
    "import sys\n",
    "sys.path.append(\"..\")\n",
    "from source.utils import split #  a pre-defined function to split the data into training and testing\n"
   ]
  },
  {
   "cell_type": "markdown",
   "id": "abb084a0-b04d-4eb7-9d0f-463503531a1b",
   "metadata": {},
   "source": [
    "Next let us recall the data"
   ]
  },
  {
   "cell_type": "code",
   "execution_count": 7,
   "id": "2f0f6cd0-c654-4fb5-9824-e6d153394237",
   "metadata": {},
   "outputs": [
    {
     "name": "stdout",
     "output_type": "stream",
     "text": [
      "(503, 2074)\n"
     ]
    }
   ],
   "source": [
    "# ___Cell no. 2___\n",
    "\n",
    "%store -r X\n",
    "%store -r Y\n",
    "%store -r df\n",
    "print(X.shape) # printing the shape the dataframe X"
   ]
  },
  {
   "cell_type": "code",
   "execution_count": 9,
   "id": "ba5d5efc-1a3c-4388-81a5-fc15b2687c2d",
   "metadata": {},
   "outputs": [
    {
     "name": "stdout",
     "output_type": "stream",
     "text": [
      "(547, 2074)\n"
     ]
    }
   ],
   "source": [
    "%store -r Xgd\n",
    "%store -r Ygd\n",
    "%store -r gd\n",
    "print(Xgd.shape)"
   ]
  },
  {
   "cell_type": "code",
   "execution_count": 13,
   "id": "0505ad2d-71c6-45ce-9633-aec33e607a93",
   "metadata": {},
   "outputs": [
    {
     "name": "stdout",
     "output_type": "stream",
     "text": [
      "(562, 2074)\n"
     ]
    }
   ],
   "source": [
    "%store -r Xrg\n",
    "%store -r Yrg\n",
    "%store -r rg\n",
    "print(Xrg.shape)"
   ]
  },
  {
   "cell_type": "markdown",
   "id": "3bef224c-ade1-4cc9-9ac3-6a0b5914b89f",
   "metadata": {},
   "source": [
    "Converting labels from `S` & `B` to `1` &`0`"
   ]
  },
  {
   "cell_type": "code",
   "execution_count": 16,
   "id": "2a393b7e-4095-452b-bc26-a6bcf3001399",
   "metadata": {},
   "outputs": [
    {
     "data": {
      "text/plain": [
       "0      0\n",
       "1      0\n",
       "2      1\n",
       "3      1\n",
       "4      0\n",
       "      ..\n",
       "498    1\n",
       "499    1\n",
       "500    0\n",
       "501    1\n",
       "502    1\n",
       "Name: Condition, Length: 503, dtype: int64"
      ]
     },
     "execution_count": 16,
     "metadata": {},
     "output_type": "execute_result"
    }
   ],
   "source": [
    "# ___Cell no. 3___\n",
    "\n",
    "Y = Y.map({'S': 1, 'B': 0})\n",
    "Y"
   ]
  },
  {
   "cell_type": "code",
   "execution_count": 14,
   "id": "6059205b-84bc-40eb-8d9c-ca8a92b3d274",
   "metadata": {},
   "outputs": [
    {
     "data": {
      "text/plain": [
       "0      0\n",
       "1      0\n",
       "2      1\n",
       "3      1\n",
       "4      0\n",
       "      ..\n",
       "542    1\n",
       "543    0\n",
       "544    0\n",
       "545    1\n",
       "546    1\n",
       "Name: Condition, Length: 547, dtype: int64"
      ]
     },
     "execution_count": 14,
     "metadata": {},
     "output_type": "execute_result"
    }
   ],
   "source": [
    "Ygd = Ygd.map({'S': 1, 'B': 0})\n",
    "Ygd"
   ]
  },
  {
   "cell_type": "code",
   "execution_count": 15,
   "id": "781472cc-d161-40e5-89bb-6b3fe93fc5b9",
   "metadata": {},
   "outputs": [
    {
     "data": {
      "text/plain": [
       "0      0\n",
       "1      0\n",
       "2      1\n",
       "3      1\n",
       "4      0\n",
       "      ..\n",
       "557    1\n",
       "558    0\n",
       "559    0\n",
       "560    1\n",
       "561    1\n",
       "Name: Condition, Length: 562, dtype: int64"
      ]
     },
     "execution_count": 15,
     "metadata": {},
     "output_type": "execute_result"
    }
   ],
   "source": [
    "Yrg = Yrg.map({'S': 1, 'B': 0})\n",
    "Yrg"
   ]
  },
  {
   "cell_type": "markdown",
   "id": "a8fe0dc4-c9d2-4ebe-83b1-69055ef12480",
   "metadata": {},
   "source": [
    "---"
   ]
  },
  {
   "cell_type": "markdown",
   "id": "6a7d0b03-0127-4881-8ee2-f212b71a3c2f",
   "metadata": {},
   "source": [
    "### Split the data into train and test"
   ]
  },
  {
   "cell_type": "code",
   "execution_count": 17,
   "id": "b3a1dcb5-4530-4075-ad85-15a14aa9871b",
   "metadata": {},
   "outputs": [],
   "source": [
    "# ___Cell no. 4___\n",
    "\n",
    "Xtrain, Xtest, Ytrain, Ytest  = split(X, Y)"
   ]
  },
  {
   "cell_type": "code",
   "execution_count": 18,
   "id": "7113e7d9-7487-4831-ac93-b139ccc122f0",
   "metadata": {},
   "outputs": [],
   "source": [
    "Xgdtrain, Xgdtest, Ygdtrain, Ygdtest  = split(Xgd, Ygd)"
   ]
  },
  {
   "cell_type": "code",
   "execution_count": 19,
   "id": "4820bd53-2cfd-4bd6-92ac-305e75b64148",
   "metadata": {},
   "outputs": [],
   "source": [
    "Xrgtrain, Xrgtest, Yrgtrain, Yrgtest  = split(Xrg, Yrg)"
   ]
  },
  {
   "cell_type": "code",
   "execution_count": 20,
   "id": "ac6a0f61-8f8b-4d4a-9d8b-e7312dd2dd46",
   "metadata": {},
   "outputs": [
    {
     "name": "stdout",
     "output_type": "stream",
     "text": [
      "(352, 2074)\n",
      "(352,)\n"
     ]
    }
   ],
   "source": [
    "# ___Cell no. 5___\n",
    "\n",
    "print(Xtrain.shape)\n",
    "print(Ytrain.shape)"
   ]
  },
  {
   "cell_type": "code",
   "execution_count": 21,
   "id": "9f8267a8-e7f7-466d-9fbe-97352e4ec337",
   "metadata": {},
   "outputs": [
    {
     "name": "stdout",
     "output_type": "stream",
     "text": [
      "(382, 2074)\n",
      "(382,)\n"
     ]
    }
   ],
   "source": [
    "print(Xgdtrain.shape)\n",
    "print(Ygdtrain.shape)"
   ]
  },
  {
   "cell_type": "code",
   "execution_count": 22,
   "id": "bec7e747-cbc9-4ccb-b7f6-c07e07d081b4",
   "metadata": {},
   "outputs": [
    {
     "name": "stdout",
     "output_type": "stream",
     "text": [
      "(393, 2074)\n",
      "(393,)\n"
     ]
    }
   ],
   "source": [
    "print(Xrgtrain.shape)\n",
    "print(Yrgtrain.shape)"
   ]
  },
  {
   "cell_type": "markdown",
   "id": "33f03a13-f9a2-4a6d-8526-7c2c1ca7ce31",
   "metadata": {},
   "source": [
    "---"
   ]
  },
  {
   "cell_type": "markdown",
   "id": "9cfdeca0-e5fd-4164-9115-26cbf52161b8",
   "metadata": {},
   "source": [
    "### Train the baseline model (LR) "
   ]
  },
  {
   "cell_type": "code",
   "execution_count": 23,
   "id": "592805f0-40eb-45dc-ac8b-78cb21e7049e",
   "metadata": {},
   "outputs": [],
   "source": [
    "# ___Cell no. 6___\n",
    "\n",
    "from sklearn.linear_model import LogisticRegression\n"
   ]
  },
  {
   "cell_type": "code",
   "execution_count": 24,
   "id": "3189f8e7-1286-4f36-a5d5-da0d478131c8",
   "metadata": {},
   "outputs": [
    {
     "data": {
      "text/plain": [
       "LogisticRegression(random_state=0, solver='newton-cg')"
      ]
     },
     "execution_count": 24,
     "metadata": {},
     "output_type": "execute_result"
    }
   ],
   "source": [
    "# ___Cell no. 7___\n",
    "\n",
    "LR = LogisticRegression(random_state=0, solver=\"newton-cg\") #defining the model\n",
    "LR.fit(Xtrain.values, Ytrain) # training the machine learning model"
   ]
  },
  {
   "cell_type": "code",
   "execution_count": 25,
   "id": "ef6bdb85-ef48-4851-ad50-ac5dcb4653ed",
   "metadata": {},
   "outputs": [
    {
     "data": {
      "text/plain": [
       "LogisticRegression(random_state=0, solver='newton-cg')"
      ]
     },
     "execution_count": 25,
     "metadata": {},
     "output_type": "execute_result"
    }
   ],
   "source": [
    "LR.fit(Xgdtrain.values, Ygdtrain) # training the machine learning model"
   ]
  },
  {
   "cell_type": "code",
   "execution_count": 26,
   "id": "b45f8042-34ca-43e9-bdcb-d2ac72704101",
   "metadata": {},
   "outputs": [
    {
     "data": {
      "text/plain": [
       "LogisticRegression(random_state=0, solver='newton-cg')"
      ]
     },
     "execution_count": 26,
     "metadata": {},
     "output_type": "execute_result"
    }
   ],
   "source": [
    "LR.fit(Xrgtrain.values, Yrgtrain) # training the machine learning model"
   ]
  },
  {
   "cell_type": "markdown",
   "id": "10a5224a-032d-4f0a-b271-c437aceabfc9",
   "metadata": {},
   "source": [
    "### Testing the baseline model"
   ]
  },
  {
   "cell_type": "code",
   "execution_count": 28,
   "id": "9ca6a19c-bad0-4b96-8919-74d14ad8b914",
   "metadata": {},
   "outputs": [],
   "source": [
    "# ___Cell no. 8___\n",
    "\n",
    "from sklearn.metrics import accuracy_score, precision_score"
   ]
  },
  {
   "cell_type": "code",
   "execution_count": 29,
   "id": "49e4f905-ae06-4ddc-ad9f-2f71ae12483b",
   "metadata": {},
   "outputs": [
    {
     "name": "stdout",
     "output_type": "stream",
     "text": [
      "Accuracy score is 0.7682119205298014\n"
     ]
    },
    {
     "name": "stderr",
     "output_type": "stream",
     "text": [
      "/opt/workshop/lib/python3.8/site-packages/sklearn/utils/validation.py:1688: FutureWarning: Feature names only support names that are all strings. Got feature names with dtypes: ['float']. An error will be raised in 1.2.\n",
      "  warnings.warn(\n"
     ]
    }
   ],
   "source": [
    "# ___Cell no. 9___\n",
    "y_pred = LR.predict(Xtest)\n",
    "print(\"Accuracy score is\", accuracy_score(Ytest.values, y_pred))"
   ]
  },
  {
   "cell_type": "code",
   "execution_count": 31,
   "id": "809767e6-632e-46c4-b52e-ccceb5834103",
   "metadata": {},
   "outputs": [
    {
     "name": "stdout",
     "output_type": "stream",
     "text": [
      "Accuracy score is 0.8181818181818182\n"
     ]
    },
    {
     "name": "stderr",
     "output_type": "stream",
     "text": [
      "/opt/workshop/lib/python3.8/site-packages/sklearn/utils/validation.py:1688: FutureWarning: Feature names only support names that are all strings. Got feature names with dtypes: ['float']. An error will be raised in 1.2.\n",
      "  warnings.warn(\n"
     ]
    }
   ],
   "source": [
    "ygd_pred = LR.predict(Xgdtest)\n",
    "print(\"Accuracy score is\", accuracy_score(Ygdtest.values, ygd_pred))"
   ]
  },
  {
   "cell_type": "code",
   "execution_count": 33,
   "id": "531d231a-0d4c-4c99-9ae0-42e43017809e",
   "metadata": {},
   "outputs": [
    {
     "name": "stdout",
     "output_type": "stream",
     "text": [
      "Accuracy score is 0.8284023668639053\n"
     ]
    },
    {
     "name": "stderr",
     "output_type": "stream",
     "text": [
      "/opt/workshop/lib/python3.8/site-packages/sklearn/utils/validation.py:1688: FutureWarning: Feature names only support names that are all strings. Got feature names with dtypes: ['float']. An error will be raised in 1.2.\n",
      "  warnings.warn(\n"
     ]
    }
   ],
   "source": [
    "yrg_pred = LR.predict(Xrgtest)\n",
    "print(\"Accuracy score is\", accuracy_score(Yrgtest.values, yrg_pred))"
   ]
  },
  {
   "cell_type": "markdown",
   "id": "2f16083f-5aa7-486e-bcd9-bd3320b7bc39",
   "metadata": {},
   "source": [
    "We have calculated the classification accuracy, which is about 80%, not bad for a baseline. However, accuracy is not the best measure of performance in this case, because false positives (i.e. bruised apples that are misclassified) are much worse than false negatives (i.e. sound apples that are misclassified).  In this case, precision is a better way to score the algorithm."
   ]
  },
  {
   "cell_type": "code",
   "execution_count": 36,
   "id": "ec14014c-e88d-49c5-8b56-448e80466684",
   "metadata": {},
   "outputs": [
    {
     "name": "stdout",
     "output_type": "stream",
     "text": [
      "Precision score is 0.7204301075268817\n"
     ]
    }
   ],
   "source": [
    "# ___Cell no. 10___\n",
    "print(\"Precision score is\", precision_score(Ytest.values, y_pred))"
   ]
  },
  {
   "cell_type": "code",
   "execution_count": 34,
   "id": "87857adf-e4b8-4919-89f5-62295b93576f",
   "metadata": {},
   "outputs": [
    {
     "name": "stdout",
     "output_type": "stream",
     "text": [
      "Precision score is 0.7789473684210526\n"
     ]
    }
   ],
   "source": [
    "print(\"Precision score is\", precision_score(Ygdtest.values, ygd_pred))"
   ]
  },
  {
   "cell_type": "code",
   "execution_count": 35,
   "id": "ed21ff1a-1d7f-4a1b-8a4a-f2eeda5c5f73",
   "metadata": {},
   "outputs": [
    {
     "name": "stdout",
     "output_type": "stream",
     "text": [
      "Precision score is 0.7777777777777778\n"
     ]
    }
   ],
   "source": [
    "print(\"Precision score is\", precision_score(Yrgtest.values, yrg_pred))"
   ]
  },
  {
   "cell_type": "markdown",
   "id": "219aef0b-72f0-43fd-b25b-2eb8a2ec66e9",
   "metadata": {},
   "source": [
    "The model has precision of about 76%.  We will use this score to compare against other methods in the upcoming tutorials."
   ]
  },
  {
   "cell_type": "markdown",
   "id": "7265d92b-0cf8-4ee2-b34b-49959209bc8c",
   "metadata": {},
   "source": [
    "**Exercise 1:** Perform LR on the other two data sets."
   ]
  },
  {
   "cell_type": "markdown",
   "id": "e52169be-ba02-41cd-a585-080a2deeaff8",
   "metadata": {},
   "source": [
    "---"
   ]
  },
  {
   "cell_type": "code",
   "execution_count": null,
   "id": "076dd6f3-e86f-4e8d-95ca-04938d45a5bc",
   "metadata": {},
   "outputs": [],
   "source": []
  }
 ],
 "metadata": {
  "kernelspec": {
   "display_name": "Python 3",
   "language": "python",
   "name": "python3"
  },
  "language_info": {
   "codemirror_mode": {
    "name": "ipython",
    "version": 3
   },
   "file_extension": ".py",
   "mimetype": "text/x-python",
   "name": "python",
   "nbconvert_exporter": "python",
   "pygments_lexer": "ipython3",
   "version": "3.8.8"
  },
  "varInspector": {
   "cols": {
    "lenName": 16,
    "lenType": 16,
    "lenVar": 40
   },
   "kernels_config": {
    "python": {
     "delete_cmd_postfix": "",
     "delete_cmd_prefix": "del ",
     "library": "var_list.py",
     "varRefreshCmd": "print(var_dic_list())"
    },
    "r": {
     "delete_cmd_postfix": ") ",
     "delete_cmd_prefix": "rm(",
     "library": "var_list.r",
     "varRefreshCmd": "cat(var_dic_list()) "
    }
   },
   "types_to_exclude": [
    "module",
    "function",
    "builtin_function_or_method",
    "instance",
    "_Feature"
   ],
   "window_display": false
  }
 },
 "nbformat": 4,
 "nbformat_minor": 5
}
