{
 "cells": [
  {
   "cell_type": "code",
   "execution_count": 1,
   "id": "e34f93f3-39ed-4a70-abf8-8806866c5324",
   "metadata": {},
   "outputs": [],
   "source": [
    "#make the import\n",
    "import pandas as pd\n",
    "import numpy as np"
   ]
  },
  {
   "cell_type": "code",
   "execution_count": 2,
   "id": "24d88ef7-49b7-4f30-b0f1-adb14087cc13",
   "metadata": {},
   "outputs": [
    {
     "name": "stdout",
     "output_type": "stream",
     "text": [
      "(547, 2074)\n"
     ]
    }
   ],
   "source": [
    "#recall the data\n",
    "%store -r Xgd\n",
    "%store -r Ygd\n",
    "%store -r gd\n",
    "print(Xgd.shape)"
   ]
  },
  {
   "cell_type": "code",
   "execution_count": 3,
   "id": "ce2946e6-951a-4407-9cce-ecb4b9865aa5",
   "metadata": {},
   "outputs": [],
   "source": [
    "#Import the tools we will use to reduce redundant information\n",
    "\n",
    "import sys\n",
    "sys.path.append(\"..\")\n",
    "from source.utils import creat_rollingData, skew_df, mean_df, kurt_df"
   ]
  },
  {
   "cell_type": "code",
   "execution_count": 5,
   "id": "5a9d4358-9ccc-4fd3-b538-e0e4ee5b75b6",
   "metadata": {},
   "outputs": [
    {
     "name": "stdout",
     "output_type": "stream",
     "text": [
      "(547, 207)\n",
      "(547, 69)\n",
      "(547, 41)\n",
      "(547, 20)\n"
     ]
    }
   ],
   "source": [
    "#using the creat_rollingData\n",
    "\n",
    "# ___Cell no. 9___\n",
    "\n",
    "Xgd_arrayRol_sk  = creat_rollingData (df = Xgd, window_arr = [10, 30, 50, 100], method =  skew_df )\n",
    "\n",
    "# let us see the shape of the created rolled dataframes\n",
    "for x in Xgd_arrayRol_sk:\n",
    "    print(x.shape)\n"
   ]
  },
  {
   "cell_type": "code",
   "execution_count": 6,
   "id": "6bf62b3e-6cc1-46bd-ad3c-29687d0ec586",
   "metadata": {},
   "outputs": [],
   "source": [
    "# ___Cell no. 12___\n",
    "\n",
    "from source.utils import split #  a pre-defined function to split the data into training and testing\n",
    "from sklearn.feature_selection import SequentialFeatureSelector\n",
    "from sklearn.linear_model import LogisticRegression\n",
    "import matplotlib.pyplot as plt"
   ]
  },
  {
   "cell_type": "code",
   "execution_count": 7,
   "id": "f7414e11-850b-4696-8952-0d412c2ba5b7",
   "metadata": {},
   "outputs": [],
   "source": [
    "Ygd = Ygd.map({'S': 1, 'B': 0})\n"
   ]
  },
  {
   "cell_type": "code",
   "execution_count": 8,
   "id": "5e4c9e93-b7fe-40d0-9bde-7d6395691597",
   "metadata": {},
   "outputs": [
    {
     "name": "stdout",
     "output_type": "stream",
     "text": [
      "(Number of samples, number of features) =  (382, 207)\n"
     ]
    },
    {
     "name": "stderr",
     "output_type": "stream",
     "text": [
      "/opt/workshop/lib/python3.8/site-packages/sklearn/metrics/_classification.py:1318: UndefinedMetricWarning: Precision is ill-defined and being set to 0.0 due to no predicted samples. Use `zero_division` parameter to control this behavior.\n",
      "  _warn_prf(average, modifier, msg_start, len(result))\n",
      "/opt/workshop/lib/python3.8/site-packages/sklearn/metrics/_classification.py:1318: UndefinedMetricWarning: Precision is ill-defined and being set to 0.0 due to no predicted samples. Use `zero_division` parameter to control this behavior.\n",
      "  _warn_prf(average, modifier, msg_start, len(result))\n",
      "/opt/workshop/lib/python3.8/site-packages/sklearn/metrics/_classification.py:1318: UndefinedMetricWarning: Precision is ill-defined and being set to 0.0 due to no predicted samples. Use `zero_division` parameter to control this behavior.\n",
      "  _warn_prf(average, modifier, msg_start, len(result))\n",
      "/opt/workshop/lib/python3.8/site-packages/sklearn/metrics/_classification.py:1318: UndefinedMetricWarning: Precision is ill-defined and being set to 0.0 due to no predicted samples. Use `zero_division` parameter to control this behavior.\n",
      "  _warn_prf(average, modifier, msg_start, len(result))\n"
     ]
    },
    {
     "name": "stdout",
     "output_type": "stream",
     "text": [
      "(Number of samples, number of features) =  (382, 69)\n"
     ]
    },
    {
     "name": "stderr",
     "output_type": "stream",
     "text": [
      "/opt/workshop/lib/python3.8/site-packages/sklearn/metrics/_classification.py:1318: UndefinedMetricWarning: Precision is ill-defined and being set to 0.0 due to no predicted samples. Use `zero_division` parameter to control this behavior.\n",
      "  _warn_prf(average, modifier, msg_start, len(result))\n"
     ]
    },
    {
     "name": "stdout",
     "output_type": "stream",
     "text": [
      "(Number of samples, number of features) =  (382, 41)\n",
      "(Number of samples, number of features) =  (382, 20)\n"
     ]
    }
   ],
   "source": [
    "selected_GDindexes_sk=[]\n",
    "\n",
    "for x_rol in Xgd_arrayRol_sk:\n",
    "    Xgd_sk_train,Xgd_sk_test,Ygd_sk_train,Ygd_sk_test=split(x_rol,Ygd)\n",
    "    print(\"(Number of samples, number of features) = \", Xgd_sk_train.shape)\n",
    "    sfs = SequentialFeatureSelector(estimator=LogisticRegression(solver = 'newton-cg'), n_features_to_select=10, direction = 'forward', scoring = 'precision' ) \n",
    "    sfs.fit(Xgd_sk_train.values, Ygd_sk_train)\n",
    "    selected_GDindexes_sk.append(sfs.support_)\n",
    "    \n",
    "\n",
    "    "
   ]
  },
  {
   "cell_type": "code",
   "execution_count": 9,
   "id": "482eae91-f2e4-4e53-be93-76719b24f796",
   "metadata": {},
   "outputs": [
    {
     "data": {
      "image/png": "[encoded data removed]",
      "text/plain": [
       "<Figure size 1152x648 with 4 Axes>"
      ]
     },
     "metadata": {
      "needs_background": "light"
     },
     "output_type": "display_data"
    }
   ],
   "source": [
    "## Scatter Plot\n",
    "import matplotlib.pyplot as plt\n",
    "a=selected_GDindexes_sk[0].astype(int)\n",
    "b=selected_GDindexes_sk[1].astype(int)\n",
    "c=selected_GDindexes_sk[2].astype(int)\n",
    "d=selected_GDindexes_sk[3].astype(int)\n",
    "\n",
    "\n",
    "fig,ax = plt.subplots(2,2,figsize=(16,9))\n",
    "ax[0, 0].plot(a,'k.',)\n",
    "ax[0, 0].set_yticks([1.0, 0.0],[\"True\", \"False\"])\n",
    "ax[0, 0].title.set_text(\"Scatter of best features for 207 columns of GD\")\n",
    "\n",
    "ax[0, 1].plot(b,'k.')\n",
    "ax[0, 1].set_yticks([1.0, 0.0],[\"True\", \"False\"])\n",
    "ax[0, 1].title.set_text(\"Scatter of best features for 69 columns of GD\")\n",
    "\n",
    "ax[1, 0].plot(c,'k.')\n",
    "ax[1, 0].set_yticks([1.0, 0.0],[\"True\", \"False\"])\n",
    "ax[1, 0].title.set_text(\"Scatter of best features for 41 columns of GD\")\n",
    "\n",
    "ax[1, 1].plot(d,'k.')\n",
    "ax[1, 1].set_yticks([1.0, 0.0],[\"True\", \"False\"])\n",
    "ax[1, 1].title.set_text(\"Scatter of best features for 20 columns of GD\")\n",
    "plt.show()     "
   ]
  },
  {
   "cell_type": "code",
   "execution_count": 10,
   "id": "40cfb214-8fef-4a82-896c-dde4bdd1443e",
   "metadata": {},
   "outputs": [
    {
     "data": {
      "text/plain": [
       "[0, 1, 4, 5, 6, 11, 12, 13, 15, 17]"
      ]
     },
     "execution_count": 10,
     "metadata": {},
     "output_type": "execute_result"
    }
   ],
   "source": [
    "index=[]\n",
    "\n",
    "for i in range(len(d)):\n",
    "    if d[i]==1:\n",
    "        index.append(i)\n",
    "index"
   ]
  },
  {
   "cell_type": "code",
   "execution_count": 12,
   "id": "6e593aaf-2757-4c16-a793-f1afb89b862b",
   "metadata": {},
   "outputs": [
    {
     "name": "stdout",
     "output_type": "stream",
     "text": [
      "Stored 'Xgd_arrayRol_sk' (list)\n",
      "Stored 'selected_GDindexes_sk' (list)\n"
     ]
    }
   ],
   "source": [
    "%store  Xgd_arrayRol_sk\n",
    "%store  selected_GDindexes_sk"
   ]
  },
  {
   "cell_type": "code",
   "execution_count": null,
   "id": "6bf1e3f5-1507-44e7-807a-ed2718c50816",
   "metadata": {},
   "outputs": [],
   "source": []
  }
 ],
 "metadata": {
  "kernelspec": {
   "display_name": "Python 3",
   "language": "python",
   "name": "python3"
  },
  "language_info": {
   "codemirror_mode": {
    "name": "ipython",
    "version": 3
   },
   "file_extension": ".py",
   "mimetype": "text/x-python",
   "name": "python",
   "nbconvert_exporter": "python",
   "pygments_lexer": "ipython3",
   "version": "3.8.10"
  }
 },
 "nbformat": 4,
 "nbformat_minor": 5
}
