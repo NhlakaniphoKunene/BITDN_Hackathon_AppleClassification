{
 "cells": [
  {
   "cell_type": "code",
   "execution_count": 15,
   "id": "38a22c04-9481-489f-b26b-5416e7907d75",
   "metadata": {},
   "outputs": [],
   "source": [
    "# ___Cell no. 1___\n",
    "\n",
    "%store -r Y\n",
    "%store -r X_arrayRol_sk \n",
    "%store -r selected_indexes_sk "
   ]
  },
  {
   "cell_type": "code",
   "execution_count": 16,
   "id": "4a694fb9-ee6b-47cb-9ef4-9cea37aa0327",
   "metadata": {},
   "outputs": [],
   "source": [
    "# ___Cell no. 1___\n",
    "\n",
    "%store -r Y\n",
    "%store -r X_arrayRol \n",
    "%store -r selected_indexes "
   ]
  },
  {
   "cell_type": "code",
   "execution_count": 26,
   "id": "c4e64fbf-6ac4-4c7d-8854-59dea6131a92",
   "metadata": {},
   "outputs": [],
   "source": [
    "%store -r Y\n",
    "%store -r X_arrayRol_v \n",
    "%store -r selected_indexes_v "
   ]
  },
  {
   "cell_type": "code",
   "execution_count": 27,
   "id": "687f594c-5b7c-415d-8493-a7a58a80ca88",
   "metadata": {},
   "outputs": [
    {
     "data": {
      "text/plain": [
       "0      0\n",
       "1      0\n",
       "2      1\n",
       "3      1\n",
       "4      0\n",
       "      ..\n",
       "498    1\n",
       "499    1\n",
       "500    0\n",
       "501    1\n",
       "502    1\n",
       "Name: Condition, Length: 503, dtype: int64"
      ]
     },
     "execution_count": 27,
     "metadata": {},
     "output_type": "execute_result"
    }
   ],
   "source": [
    "# ___Cell no. 2___\n",
    "\n",
    "Y = Y.map({'S': 1, 'B': 0})\n",
    "Y"
   ]
  },
  {
   "cell_type": "code",
   "execution_count": 46,
   "id": "13ed3ea7-6eee-44c9-b743-35f5fac687d4",
   "metadata": {},
   "outputs": [],
   "source": [
    "# ___Cell no. 3___\n",
    "\n",
    "import sys\n",
    "sys.path.append(\"..\")\n",
    "####\n",
    "from sklearn.ensemble import RandomForestClassifier # a ML method\n",
    "from sklearn.metrics import accuracy_score, precision_score\n",
    "import numpy as np\n",
    "from source.utils import split #  a pre-defined function to split the data into training and testing|"
   ]
  },
  {
   "cell_type": "code",
   "execution_count": 48,
   "id": "e663cc56-f27f-4139-80b9-cb376ace01ad",
   "metadata": {},
   "outputs": [
    {
     "name": "stdout",
     "output_type": "stream",
     "text": [
      "(503, 207)\n",
      "(207,)\n",
      "X training shape:(352, 10)\n",
      "Notice that we reduced the number of features from 207 to 10\n",
      "precision score= 0.684931506849315\n",
      "##########\n",
      "(503, 69)\n",
      "(69,)\n",
      "X training shape:(352, 10)\n",
      "Notice that we reduced the number of features from 69 to 10\n",
      "precision score= 0.759493670886076\n",
      "##########\n",
      "(503, 41)\n",
      "(41,)\n",
      "X training shape:(352, 10)\n",
      "Notice that we reduced the number of features from 41 to 10\n",
      "precision score= 0.7619047619047619\n",
      "##########\n",
      "(503, 20)\n",
      "(20,)\n",
      "X training shape:(352, 10)\n",
      "Notice that we reduced the number of features from 20 to 10\n",
      "precision score= 0.7558139534883721\n",
      "##########\n"
     ]
    }
   ],
   "source": [
    "# ___Cell no. 4___\n",
    "\n",
    "acc_list_sk = [] # a list to save the accuracy score for the 4 different datasets we have\n",
    "prec_list_sk = [] # a list to save the precision score for the 4 different datasets we have\n",
    "for x_roll_sk,boolInd_sk in zip (X_arrayRol_sk, selected_indexes_sk):\n",
    "    print(x_roll_sk.shape)\n",
    "    print(boolInd_sk.shape) # a boolean array to select the best 10 features\n",
    "    Xtrain_sk, Xtest_sk, Ytrain_sk, Ytest_sk  = split( x_roll_sk.values[:,boolInd_sk], Y )\n",
    "    print(\"X training shape:\" + str(Xtrain_sk.shape))\n",
    "    print(\"Notice that we reduced the number of features from \" + str(x_roll_sk.shape[1]) + \" to \" + str(Xtrain_sk.shape[1]))\n",
    "    RF_sk = RandomForestClassifier(random_state=0, n_estimators=500) #defining the model\n",
    "    RF_sk.fit(Xtrain_sk, Ytrain_sk) # training the machine learning model\n",
    "    y_pred_sk = RF_sk.predict(Xtest_sk)\n",
    "    \n",
    "#### Calculating the scores\n",
    "    prec_sk = precision_score(Ytest_sk.values, y_pred_sk)\n",
    "    print(\"precision score= \"+str(prec_sk))\n",
    "\n",
    "#### appending the score to a list\n",
    "    prec_list_sk.append(prec_sk) # append the precision score to a list.\n",
    "    \n",
    "#### Done\n",
    "    print('##########')"
   ]
  },
  {
   "cell_type": "code",
   "execution_count": 49,
   "id": "9041e4cc-dfa7-4144-906f-63eb6f3ce411",
   "metadata": {},
   "outputs": [
    {
     "name": "stdout",
     "output_type": "stream",
     "text": [
      "(503, 207)\n",
      "(207,)\n",
      "X training shape:(352, 10)\n",
      "Notice that we reduced the number of features from 207 to 10\n",
      "precision score= 0.75\n",
      "##########\n",
      "(503, 69)\n",
      "(69,)\n",
      "X training shape:(352, 10)\n",
      "Notice that we reduced the number of features from 69 to 10\n",
      "precision score= 0.7564102564102564\n",
      "##########\n",
      "(503, 41)\n",
      "(41,)\n",
      "X training shape:(352, 10)\n",
      "Notice that we reduced the number of features from 41 to 10\n",
      "precision score= 0.7837837837837838\n",
      "##########\n",
      "(503, 20)\n",
      "(20,)\n",
      "X training shape:(352, 10)\n",
      "Notice that we reduced the number of features from 20 to 10\n",
      "precision score= 0.7534246575342466\n",
      "##########\n"
     ]
    }
   ],
   "source": [
    "# ___Cell no. 4___\n",
    "\n",
    "acc_list = [] # a list to save the accuracy score for the 4 different datasets we have\n",
    "prec_list = [] # a list to save the precision score for the 4 different datasets we have\n",
    "for x_roll,boolInd in zip (X_arrayRol, selected_indexes):\n",
    "    print(x_roll.shape)\n",
    "    print(boolInd.shape) # a boolean array to select the best 10 features\n",
    "    Xtrain, Xtest, Ytrain, Ytest  = split( x_roll.values[:,boolInd], Y )\n",
    "    print(\"X training shape:\" + str(Xtrain.shape))\n",
    "    print(\"Notice that we reduced the number of features from \" + str(x_roll.shape[1]) + \" to \" + str(Xtrain.shape[1]))\n",
    "    RF = RandomForestClassifier(random_state=0, n_estimators=500) #defining the model\n",
    "    RF.fit(Xtrain, Ytrain) # training the machine learning model\n",
    "    y_pred = RF.predict(Xtest)\n",
    "    \n",
    "#### Calculating the scores\n",
    "    prec = precision_score(Ytest.values, y_pred)\n",
    "    print(\"precision score= \"+str(prec))\n",
    "\n",
    "#### appending the score to a list\n",
    "    prec_list.append(prec) # append the precision score to a list.\n",
    "    \n",
    "#### Done\n",
    "    print('##########')"
   ]
  },
  {
   "cell_type": "code",
   "execution_count": 50,
   "id": "c821fcfb-410d-4752-9174-657301b038ec",
   "metadata": {},
   "outputs": [
    {
     "name": "stdout",
     "output_type": "stream",
     "text": [
      "(503, 207)\n",
      "(207,)\n",
      "X training shape:(352, 10)\n",
      "Notice that we reduced the number of features from 207 to 10\n",
      "precision score= 0.5444444444444444\n",
      "##########\n",
      "(503, 69)\n",
      "(69,)\n",
      "X training shape:(352, 10)\n",
      "Notice that we reduced the number of features from 69 to 10\n",
      "precision score= 0.5822784810126582\n",
      "##########\n",
      "(503, 41)\n",
      "(41,)\n",
      "X training shape:(352, 10)\n",
      "Notice that we reduced the number of features from 41 to 10\n",
      "precision score= 0.6470588235294118\n",
      "##########\n",
      "(503, 20)\n",
      "(20,)\n",
      "X training shape:(352, 10)\n",
      "Notice that we reduced the number of features from 20 to 10\n",
      "precision score= 0.6404494382022472\n",
      "##########\n"
     ]
    }
   ],
   "source": [
    "# ___Cell no. 4___\n",
    "\n",
    "acc_list_v = [] # a list to save the accuracy score for the 4 different datasets we have\n",
    "prec_list_v = [] # a list to save the precision score for the 4 different datasets we have\n",
    "for x_roll,boolInd in zip (X_arrayRol_v, selected_indexes_v):\n",
    "    print(x_roll.shape)\n",
    "    print(boolInd.shape) # a boolean array to select the best 10 features\n",
    "    Xtrain, Xtest, Ytrain, Ytest  = split( x_roll.values[:,boolInd], Y )\n",
    "    print(\"X training shape:\" + str(Xtrain.shape))\n",
    "    print(\"Notice that we reduced the number of features from \" + str(x_roll.shape[1]) + \" to \" + str(Xtrain.shape[1]))\n",
    "    RF_v = RandomForestClassifier(random_state=0, n_estimators=500) #defining the model\n",
    "    RF_v.fit(Xtrain, Ytrain) # training the machine learning model\n",
    "    y_pred_v = RF_v.predict(Xtest)\n",
    "    \n",
    "#### Calculating the scores\n",
    "    prec_v = precision_score(Ytest.values, y_pred_v)\n",
    "    print(\"precision score= \"+str(prec_v))\n",
    "\n",
    "#### appending the score to a list\n",
    "    prec_list_v.append(prec_v) # append the precision score to a list.\n",
    "    \n",
    "#### Done\n",
    "    print('##########')"
   ]
  },
  {
   "cell_type": "code",
   "execution_count": 51,
   "id": "618e9a46-378d-4dc7-a4cf-8bf131b0cede",
   "metadata": {},
   "outputs": [],
   "source": [
    "# ___Cell no. 5___\n",
    "\n",
    "import matplotlib.pyplot as plt"
   ]
  },
  {
   "cell_type": "code",
   "execution_count": 52,
   "id": "96178242-9de9-4c0a-a390-a81bd241ef3d",
   "metadata": {},
   "outputs": [
    {
     "name": "stdout",
     "output_type": "stream",
     "text": [
      "Now let us compare the Precision scores\n"
     ]
    },
    {
     "data": {
      "image/png": "[encoded data removed]",
      "text/plain": [
       "<Figure size 720x360 with 1 Axes>"
      ]
     },
     "metadata": {
      "needs_background": "light"
     },
     "output_type": "display_data"
    }
   ],
   "source": [
    "# ___Cell no. 6___\n",
    "\n",
    "print(\"Now let us compare the Precision scores\")\n",
    "plt.figure(figsize=(10, 5))\n",
    "\n",
    "mystring = \"roll_\"\n",
    "    \n",
    "# We make the second curve dashed so that it doesn't cover up the first\n",
    "plt.scatter([ str(s) + \"_roll_best10\" for s in [10, 30, 50, 100] ], prec_list_sk, label = \"Precision RF (skew)\")\n",
    "plt.plot([ str(s) + \"_roll_best10\" for s in [10, 30, 50, 100] ], [0.777]*len(prec_list_sk), label = \"Precision Baseline\", color = \"black\")\n",
    "plt.scatter([ str(s) + \"_roll_best10\" for s in [10, 30, 50, 100] ], prec_list, label = \"Precision RF (mean)\")\n",
    "plt.scatter([ str(s) + \"_roll_best10\" for s in [10, 30, 50, 100] ], prec_list_v, label = \"Precision RF (var)\")\n",
    "\n",
    "\n",
    "\n",
    "\n",
    "# plt.title(\"GS apples\", fontweight ='bold', fontsize =12)    \n",
    "plt.title(\"GS\")\n",
    "plt.xlabel(\"Features with different rolling window sizes\", fontweight ='bold', fontsize =12)\n",
    "plt.ylabel(\"Precision score\", fontweight ='bold', fontsize =12)\n",
    "#plt.ylim([.5,.9])\n",
    "\n",
    "plt.legend()\n",
    "\n",
    "plt.show()"
   ]
  },
  {
   "cell_type": "code",
   "execution_count": null,
   "id": "c5fef8c4-9815-4858-bd11-62685fdcfcf8",
   "metadata": {},
   "outputs": [],
   "source": []
  }
 ],
 "metadata": {
  "kernelspec": {
   "display_name": "Python 3",
   "language": "python",
   "name": "python3"
  },
  "language_info": {
   "codemirror_mode": {
    "name": "ipython",
    "version": 3
   },
   "file_extension": ".py",
   "mimetype": "text/x-python",
   "name": "python",
   "nbconvert_exporter": "python",
   "pygments_lexer": "ipython3",
   "version": "3.8.10"
  }
 },
 "nbformat": 4,
 "nbformat_minor": 5
}
