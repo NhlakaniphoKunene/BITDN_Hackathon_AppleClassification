{
 "cells": [
  {
   "cell_type": "code",
   "execution_count": 1,
   "id": "adfec59d-5dbd-47eb-8948-b53bd95400a4",
   "metadata": {},
   "outputs": [],
   "source": [
    "# ___Cell no. 1___\n",
    "\n",
    "# Python packages \n",
    "import pandas as pd # for importing data into data frame format\n",
    "import seaborn as sns # For drawing useful graphs, such as bar graphs\n",
    "import numpy as np\n",
    "import matplotlib.pyplot as plt\n",
    "\n",
    "import sys\n",
    "sys.path.append(\"..\")\n",
    "from source.utils import split #  a pre-defined function to split the data into training and testing\n"
   ]
  },
  {
   "cell_type": "code",
   "execution_count": 3,
   "id": "19eba484-5647-46a3-8b10-def31373be08",
   "metadata": {},
   "outputs": [
    {
     "name": "stdout",
     "output_type": "stream",
     "text": [
      "(562, 2074)\n"
     ]
    }
   ],
   "source": [
    "%store -r Xrg\n",
    "%store -r Yrg\n",
    "%store -r rg\n",
    "print(Xrg.shape)"
   ]
  },
  {
   "cell_type": "code",
   "execution_count": 5,
   "id": "1a289462-b2a9-463b-a168-5a6b116a75cc",
   "metadata": {},
   "outputs": [
    {
     "data": {
      "text/plain": [
       "0    0\n",
       "1    0\n",
       "2    1\n",
       "3    1\n",
       "4    0\n",
       "Name: Condition, dtype: int64"
      ]
     },
     "execution_count": 5,
     "metadata": {},
     "output_type": "execute_result"
    }
   ],
   "source": [
    "Yrg = Yrg.map({'S': 1, 'B': 0})\n",
    "Yrg.head()"
   ]
  },
  {
   "cell_type": "code",
   "execution_count": 7,
   "id": "e53e847e-d5b3-4dae-9b82-ff48cc3dfb0c",
   "metadata": {},
   "outputs": [],
   "source": [
    "#split data into train and test data\n",
    "\n",
    "Xrgtrain, Xrgtest, Yrgtrain, Yrgtest  = split(Xrg, Yrg)"
   ]
  },
  {
   "cell_type": "code",
   "execution_count": 8,
   "id": "c23d5654-afe3-4db1-8eba-46ff438abf3f",
   "metadata": {},
   "outputs": [],
   "source": [
    "#import the Logictic Regression tool to build our Baseline model or train\n",
    "from sklearn.linear_model import LogisticRegression"
   ]
  },
  {
   "cell_type": "code",
   "execution_count": 9,
   "id": "0d3ecd03-d166-4061-8124-4c31da4544a2",
   "metadata": {},
   "outputs": [
    {
     "data": {
      "text/plain": [
       "LogisticRegression(random_state=0, solver='newton-cg')"
      ]
     },
     "execution_count": 9,
     "metadata": {},
     "output_type": "execute_result"
    }
   ],
   "source": [
    "LR = LogisticRegression(random_state=0, solver=\"newton-cg\") #defining the model\n",
    "LR.fit(Xrgtrain.values, Yrgtrain) # training the machine learning model"
   ]
  },
  {
   "cell_type": "code",
   "execution_count": 10,
   "id": "838bd8bb-8598-4197-b35c-92f0605f4a9e",
   "metadata": {},
   "outputs": [],
   "source": [
    "# For testing the baseline model:\n",
    "#import the metrics for accuracy score and precision score\n",
    "\n",
    "from sklearn.metrics import accuracy_score, precision_score\n"
   ]
  },
  {
   "cell_type": "code",
   "execution_count": 11,
   "id": "a553d453-0c6d-4f95-b6e8-3669e8389050",
   "metadata": {},
   "outputs": [
    {
     "name": "stdout",
     "output_type": "stream",
     "text": [
      "Accuracy score is 0.8284023668639053\n"
     ]
    },
    {
     "name": "stderr",
     "output_type": "stream",
     "text": [
      "/opt/workshop/lib/python3.8/site-packages/sklearn/utils/validation.py:1688: FutureWarning: Feature names only support names that are all strings. Got feature names with dtypes: ['float']. An error will be raised in 1.2.\n",
      "  warnings.warn(\n"
     ]
    }
   ],
   "source": [
    "#create your prediction model\n",
    "#for the Accuracy score\n",
    "yrg_pred = LR.predict(Xrgtest)\n",
    "print(\"Accuracy score is\", accuracy_score(Yrgtest.values, yrg_pred))"
   ]
  },
  {
   "cell_type": "code",
   "execution_count": 12,
   "id": "916c2ec7-940a-4cf4-af61-12d0cca7ce09",
   "metadata": {},
   "outputs": [
    {
     "name": "stdout",
     "output_type": "stream",
     "text": [
      "Precision score is 0.7777777777777778\n"
     ]
    }
   ],
   "source": [
    "# for the precision score\n",
    "print(\"Precision score is\", precision_score(Yrgtest.values, yrg_pred))"
   ]
  },
  {
   "cell_type": "code",
   "execution_count": null,
   "id": "bd8c7410-e352-4ab9-a542-b61009eab66d",
   "metadata": {},
   "outputs": [],
   "source": []
  }
 ],
 "metadata": {
  "kernelspec": {
   "display_name": "Python 3",
   "language": "python",
   "name": "python3"
  },
  "language_info": {
   "codemirror_mode": {
    "name": "ipython",
    "version": 3
   },
   "file_extension": ".py",
   "mimetype": "text/x-python",
   "name": "python",
   "nbconvert_exporter": "python",
   "pygments_lexer": "ipython3",
   "version": "3.8.10"
  }
 },
 "nbformat": 4,
 "nbformat_minor": 5
}
