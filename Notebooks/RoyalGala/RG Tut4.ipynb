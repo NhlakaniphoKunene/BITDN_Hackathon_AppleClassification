{
 "cells": [
  {
   "cell_type": "code",
   "execution_count": 8,
   "id": "acd291a9-845f-48f8-bc09-69a0a7cbdc6d",
   "metadata": {},
   "outputs": [],
   "source": [
    "#recall our previously saved files\n",
    "%store -r Yrg\n",
    "%store -r Xrg_arrayRol \n",
    "%store -r selected_RGindexes \n",
    "\n",
    "%store -r Xrg_arrayRol_sk \n",
    "%store -r selected_RGindexes_sk "
   ]
  },
  {
   "cell_type": "code",
   "execution_count": 9,
   "id": "1549d18e-5c45-4d71-ab24-f42b02b448dc",
   "metadata": {},
   "outputs": [
    {
     "data": {
      "text/plain": [
       "0      0\n",
       "1      0\n",
       "2      1\n",
       "3      1\n",
       "4      0\n",
       "      ..\n",
       "557    1\n",
       "558    0\n",
       "559    0\n",
       "560    1\n",
       "561    1\n",
       "Name: Condition, Length: 562, dtype: int64"
      ]
     },
     "execution_count": 9,
     "metadata": {},
     "output_type": "execute_result"
    }
   ],
   "source": [
    "#convert Y to boolean\n",
    "Yrg = Yrg.map({'S': 1, 'B': 0})\n",
    "Yrg"
   ]
  },
  {
   "cell_type": "code",
   "execution_count": 10,
   "id": "db9fe267-249d-46fc-b116-2f6b15f9d7f9",
   "metadata": {},
   "outputs": [],
   "source": [
    "#Importing Packages\n",
    "\n",
    "import sys\n",
    "sys.path.append(\"..\")\n",
    "####\n",
    "from sklearn.ensemble import RandomForestClassifier # a ML method\n",
    "from sklearn.metrics import accuracy_score, precision_score\n",
    "import numpy as np\n",
    "from source.utils import split #  a pre-defined function to split the data into training and testing|"
   ]
  },
  {
   "cell_type": "code",
   "execution_count": 11,
   "id": "7db25eaa-ca12-41b3-a5a5-a630c05c8b14",
   "metadata": {},
   "outputs": [
    {
     "name": "stdout",
     "output_type": "stream",
     "text": [
      "(562, 207)\n",
      "(207,)\n",
      "X training shape:(393, 10)\n",
      "Notice that we reduced the number of features from 207 to 10\n",
      "precision score= 0.7222222222222222\n",
      "##########\n",
      "(562, 69)\n",
      "(69,)\n",
      "X training shape:(393, 10)\n",
      "Notice that we reduced the number of features from 69 to 10\n",
      "precision score= 0.71\n",
      "##########\n",
      "(562, 41)\n",
      "(41,)\n",
      "X training shape:(393, 10)\n",
      "Notice that we reduced the number of features from 41 to 10\n",
      "precision score= 0.6699029126213593\n",
      "##########\n",
      "(562, 20)\n",
      "(20,)\n",
      "X training shape:(393, 10)\n",
      "Notice that we reduced the number of features from 20 to 10\n",
      "precision score= 0.69\n",
      "##########\n"
     ]
    }
   ],
   "source": [
    "# ___Cell no. 4___\n",
    "\n",
    "acc_list_rg = [] # a list to save the accuracy score for the 4 different datasets we have\n",
    "prec_list_rg = [] # a list to save the precision score for the 4 different datasets we have\n",
    "for x_rol,boolInd_rg in zip (Xrg_arrayRol, selected_RGindexes):\n",
    "    print(x_rol.shape)\n",
    "    print(boolInd_rg.shape) # a boolean array to select the best 10 features\n",
    "    Xrgtrain, Xrgtest, Yrgtrain, Yrgtest  = split( x_rol.values[:,boolInd_rg], Yrg )\n",
    "    print(\"X training shape:\" + str(Xrgtrain.shape))\n",
    "    print(\"Notice that we reduced the number of features from \" + str(x_rol.shape[1]) + \" to \" + str(Xrgtrain.shape[1]))\n",
    "    RF_rg = RandomForestClassifier(random_state=0, n_estimators=500) #defining the model\n",
    "    RF_rg.fit(Xrgtrain, Yrgtrain) # training the machine learning model\n",
    "    yrg_pred = RF_rg.predict(Xrgtest)\n",
    "    \n",
    "#### Calculating the scores\n",
    "    prec_rg = precision_score(Yrgtest.values, yrg_pred)\n",
    "    print(\"precision score= \"+str(prec_rg))\n",
    "\n",
    "#### appending the score to a list\n",
    "    prec_list_rg.append(prec_rg) # append the precision score to a list.\n",
    "    \n",
    "#### Done\n",
    "    print('##########')"
   ]
  },
  {
   "cell_type": "code",
   "execution_count": 12,
   "id": "45bcb6a5-d225-4521-b600-307ab7c01d69",
   "metadata": {},
   "outputs": [
    {
     "name": "stdout",
     "output_type": "stream",
     "text": [
      "(562, 207)\n",
      "(207,)\n",
      "X training shape:(393, 10)\n",
      "Notice that we reduced the number of features from 207 to 10\n",
      "precision score= 0.6702127659574468\n",
      "##########\n",
      "(562, 69)\n",
      "(69,)\n",
      "X training shape:(393, 10)\n",
      "Notice that we reduced the number of features from 69 to 10\n",
      "precision score= 0.7216494845360825\n",
      "##########\n",
      "(562, 41)\n",
      "(41,)\n",
      "X training shape:(393, 10)\n",
      "Notice that we reduced the number of features from 41 to 10\n",
      "precision score= 0.7789473684210526\n",
      "##########\n",
      "(562, 20)\n",
      "(20,)\n",
      "X training shape:(393, 10)\n",
      "Notice that we reduced the number of features from 20 to 10\n",
      "precision score= 0.7555555555555555\n",
      "##########\n"
     ]
    }
   ],
   "source": [
    "# ___Cell no. 4___\n",
    "\n",
    "acc_list_rg_sk = [] # a list to save the accuracy score for the 4 different datasets we have\n",
    "prec_list_rg_sk = [] # a list to save the precision score for the 4 different datasets we have\n",
    "for x_rol_sk,boolInd_rg_sk in zip (Xrg_arrayRol_sk, selected_RGindexes_sk):\n",
    "    print(x_rol_sk.shape)\n",
    "    print(boolInd_rg_sk.shape) # a boolean array to select the best 10 features\n",
    "    Xrgtrain_sk, Xrgtest_sk, Yrgtrain_sk, Yrgtest_sk  = split( x_rol_sk.values[:,boolInd_rg_sk], Yrg )\n",
    "    print(\"X training shape:\" + str(Xrgtrain_sk.shape))\n",
    "    print(\"Notice that we reduced the number of features from \" + str(x_rol_sk.shape[1]) + \" to \" + str(Xrgtrain_sk.shape[1]))\n",
    "    RF_rg_sk = RandomForestClassifier(random_state=0, n_estimators=500) #defining the model\n",
    "    RF_rg_sk.fit(Xrgtrain_sk, Yrgtrain_sk) # training the machine learning model\n",
    "    yrg_pred_sk = RF_rg_sk.predict(Xrgtest_sk)\n",
    "    \n",
    "#### Calculating the scores\n",
    "    prec_rg_sk = precision_score(Yrgtest_sk.values, yrg_pred_sk)\n",
    "    print(\"precision score= \"+str(prec_rg_sk))\n",
    "\n",
    "#### appending the score to a list\n",
    "    prec_list_rg_sk.append(prec_rg_sk) # append the precision score to a list.\n",
    "    \n",
    "#### Done\n",
    "    print('##########')"
   ]
  },
  {
   "cell_type": "code",
   "execution_count": 18,
   "id": "4e6a7e67-58ac-452c-bbc3-c7013df0426d",
   "metadata": {},
   "outputs": [
    {
     "name": "stdout",
     "output_type": "stream",
     "text": [
      "Now let us compare the Precision scores\n"
     ]
    },
    {
     "data": {
      "image/png": "[encoded data removed]",
      "text/plain": [
       "<Figure size 720x360 with 1 Axes>"
      ]
     },
     "metadata": {
      "needs_background": "light"
     },
     "output_type": "display_data"
    }
   ],
   "source": [
    "import matplotlib.pyplot as plt\n",
    "\n",
    "print(\"Now let us compare the Precision scores\")\n",
    "plt.figure(figsize=(10, 5))\n",
    "\n",
    "mystring = \"roll_\"\n",
    "    \n",
    "# We make the second curve dashed so that it doesn't cover up the first\n",
    "plt.scatter([ str(s) + \"_roll_best10\" for s in [10, 30, 50, 100] ], prec_list_rg, label = \"Precision RF for Royal Gala(mean)\")\n",
    "plt.plot([ str(s) + \"_roll_best10\" for s in [10, 30, 50, 100] ], [0.828]*len(prec_list_rg), label = \"Precision Baseline\", color = \"black\")\n",
    "\n",
    "plt.scatter([ str(s) + \"_roll_best10\" for s in [10, 30, 50, 100] ], prec_list_rg_sk, label = \"Precision RF for Royal Gala(skew)\")\n",
    "\n",
    "# plt.title(\"GS apples\", fontweight ='bold', fontsize =12)    \n",
    "plt.xlabel(\"Features with different rolling window sizes\", fontweight ='bold', fontsize =12)\n",
    "plt.ylabel(\"Precision score\", fontweight ='bold', fontsize =12)\n",
    "#plt.ylim([.6,.9])\n",
    "\n",
    "plt.legend()\n",
    "\n",
    "plt.show()"
   ]
  },
  {
   "cell_type": "code",
   "execution_count": 17,
   "id": "319b717d-b776-430b-a158-ca262c2126b7",
   "metadata": {},
   "outputs": [
    {
     "name": "stdout",
     "output_type": "stream",
     "text": [
      "Stored 'prec_list_rg' (list)\n",
      "Stored 'prec_list_rg_sk' (list)\n"
     ]
    }
   ],
   "source": [
    "%store prec_list_rg\n",
    "%store prec_list_rg_sk"
   ]
  },
  {
   "cell_type": "code",
   "execution_count": null,
   "id": "239bc47e-208d-4f13-8adb-aac20388e191",
   "metadata": {},
   "outputs": [],
   "source": []
  }
 ],
 "metadata": {
  "kernelspec": {
   "display_name": "Python 3",
   "language": "python",
   "name": "python3"
  },
  "language_info": {
   "codemirror_mode": {
    "name": "ipython",
    "version": 3
   },
   "file_extension": ".py",
   "mimetype": "text/x-python",
   "name": "python",
   "nbconvert_exporter": "python",
   "pygments_lexer": "ipython3",
   "version": "3.8.10"
  }
 },
 "nbformat": 4,
 "nbformat_minor": 5
}
