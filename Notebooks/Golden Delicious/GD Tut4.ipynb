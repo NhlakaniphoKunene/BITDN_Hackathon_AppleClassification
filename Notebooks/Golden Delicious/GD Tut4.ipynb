{
 "cells": [
  {
   "cell_type": "markdown",
   "id": "dd38c15c-0844-42e3-b871-74774b9c35a7",
   "metadata": {},
   "source": [
    "# Tut4: Machine Learning Classification"
   ]
  },
  {
   "cell_type": "code",
   "execution_count": 1,
   "id": "d4ed79fe-81c7-4be4-972e-76aec1833edf",
   "metadata": {},
   "outputs": [],
   "source": [
    "#recall our previously saved files\n",
    "%store -r Ygd\n",
    "%store -r Xgd_arrayRol \n",
    "%store -r selected_GDindexes "
   ]
  },
  {
   "cell_type": "code",
   "execution_count": 2,
   "id": "b2c890ff-c478-473a-8df3-5e0d3e4c0be8",
   "metadata": {},
   "outputs": [
    {
     "data": {
      "text/plain": [
       "0      0\n",
       "1      0\n",
       "2      1\n",
       "3      1\n",
       "4      0\n",
       "      ..\n",
       "542    1\n",
       "543    0\n",
       "544    0\n",
       "545    1\n",
       "546    1\n",
       "Name: Condition, Length: 547, dtype: int64"
      ]
     },
     "execution_count": 2,
     "metadata": {},
     "output_type": "execute_result"
    }
   ],
   "source": [
    "#convert Y to boolean\n",
    "Ygd = Ygd.map({'S': 1, 'B': 0})\n",
    "Ygd"
   ]
  },
  {
   "cell_type": "markdown",
   "id": "13e7c613-5a10-4377-ba4c-16adee34af1c",
   "metadata": {},
   "source": [
    "#### Training the machine learning model"
   ]
  },
  {
   "cell_type": "code",
   "execution_count": 3,
   "id": "137d2bf4-b1fc-4044-9d0f-f0d3a08c17a6",
   "metadata": {},
   "outputs": [],
   "source": [
    "#Importing Packages\n",
    "\n",
    "import sys\n",
    "sys.path.append(\"..\")\n",
    "####\n",
    "from sklearn.ensemble import RandomForestClassifier # a ML method\n",
    "from sklearn.metrics import accuracy_score, precision_score\n",
    "import numpy as np\n",
    "from source.utils import split #  a pre-defined function to split the data into training and testing|"
   ]
  },
  {
   "cell_type": "code",
   "execution_count": 4,
   "id": "428432f4-55e0-4e95-ad5c-256dcb624d75",
   "metadata": {},
   "outputs": [
    {
     "name": "stdout",
     "output_type": "stream",
     "text": [
      "(547, 207)\n",
      "(207,)\n",
      "X training shape:(382, 10)\n",
      "Notice that we reduced the number of features from 207 to 10\n",
      "precision score= 0.782608695652174\n",
      "##########\n",
      "(547, 69)\n",
      "(69,)\n",
      "X training shape:(382, 10)\n",
      "Notice that we reduced the number of features from 69 to 10\n",
      "precision score= 0.8021978021978022\n",
      "##########\n",
      "(547, 41)\n",
      "(41,)\n",
      "X training shape:(382, 10)\n",
      "Notice that we reduced the number of features from 41 to 10\n",
      "precision score= 0.7727272727272727\n",
      "##########\n",
      "(547, 20)\n",
      "(20,)\n",
      "X training shape:(382, 10)\n",
      "Notice that we reduced the number of features from 20 to 10\n",
      "precision score= 0.8\n",
      "##########\n"
     ]
    }
   ],
   "source": [
    "# ___Cell no. 4___\n",
    "\n",
    "acc_list_gd = [] # a list to save the accuracy score for the 4 different datasets we have\n",
    "prec_list_gd = [] # a list to save the precision score for the 4 different datasets we have\n",
    "for x_rol,boolInd_gd in zip (Xgd_arrayRol, selected_GDindexes):\n",
    "    print(x_rol.shape)\n",
    "    print(boolInd_gd.shape) # a boolean array to select the best 10 features\n",
    "    Xgdtrain, Xgdtest, Ygdtrain, Ygdtest  = split( x_rol.values[:,boolInd_gd], Ygd )\n",
    "    print(\"X training shape:\" + str(Xgdtrain.shape))\n",
    "    print(\"Notice that we reduced the number of features from \" + str(x_rol.shape[1]) + \" to \" + str(Xgdtrain.shape[1]))\n",
    "    RF_gd = RandomForestClassifier(random_state=0, n_estimators=500) #defining the model\n",
    "    RF_gd.fit(Xgdtrain, Ygdtrain) # training the machine learning model\n",
    "    ygd_pred = RF_gd.predict(Xgdtest)\n",
    "    \n",
    "#### Calculating the scores\n",
    "    prec_gd = precision_score(Ygdtest.values, ygd_pred)\n",
    "    print(\"precision score= \"+str(prec_gd))\n",
    "\n",
    "#### appending the score to a list\n",
    "    prec_list_gd.append(prec_gd) # append the precision score to a list.\n",
    "    \n",
    "#### Done\n",
    "    print('##########')"
   ]
  },
  {
   "cell_type": "markdown",
   "id": "71fe7a63-e56b-4aa7-a93f-5a87dd6b73dd",
   "metadata": {},
   "source": [
    "#### Displaying the models perfomance relative to the baseline"
   ]
  },
  {
   "cell_type": "code",
   "execution_count": 9,
   "id": "5616c209-11e9-4dad-9c1e-cd574615f34f",
   "metadata": {},
   "outputs": [
    {
     "name": "stdout",
     "output_type": "stream",
     "text": [
      "Now let us compare the Precision scores\n"
     ]
    },
    {
     "data": {
      "image/png": "[encoded data removed]",
      "text/plain": [
       "<Figure size 720x360 with 1 Axes>"
      ]
     },
     "metadata": {
      "needs_background": "light"
     },
     "output_type": "display_data"
    }
   ],
   "source": [
    "import matplotlib.pyplot as plt\n",
    "\n",
    "print(\"Now let us compare the Precision scores\")\n",
    "plt.figure(figsize=(10, 5))\n",
    "\n",
    "mystring = \"roll_\"\n",
    "    \n",
    "# We make the second curve dashed so that it doesn't cover up the first\n",
    "plt.scatter([ str(s) + \"_roll_best10\" for s in [10, 30, 50, 100] ], prec_list_gd, label = \"Precision RF for Golden Delicious\")\n",
    "plt.plot([ str(s) + \"_roll_best10\" for s in [10, 30, 50, 100] ], [0.764]*len(prec_list_gd), label = \"Precision Baseline\", color = \"black\")\n",
    "\n",
    "\n",
    "\n",
    "# plt.title(\"GS apples\", fontweight ='bold', fontsize =12)    \n",
    "plt.xlabel(\"Features with different rolling window sizes\", fontweight ='bold', fontsize =12)\n",
    "plt.ylabel(\"Precision score\", fontweight ='bold', fontsize =12)\n",
    "plt.ylim([.7,.9])\n",
    "\n",
    "plt.legend()\n",
    "\n",
    "plt.show()"
   ]
  },
  {
   "cell_type": "code",
   "execution_count": null,
   "id": "5f422735-e403-4b1d-b744-95d2c0824f4f",
   "metadata": {},
   "outputs": [],
   "source": []
  }
 ],
 "metadata": {
  "kernelspec": {
   "display_name": "Python 3",
   "language": "python",
   "name": "python3"
  },
  "language_info": {
   "codemirror_mode": {
    "name": "ipython",
    "version": 3
   },
   "file_extension": ".py",
   "mimetype": "text/x-python",
   "name": "python",
   "nbconvert_exporter": "python",
   "pygments_lexer": "ipython3",
   "version": "3.8.10"
  }
 },
 "nbformat": 4,
 "nbformat_minor": 5
}
