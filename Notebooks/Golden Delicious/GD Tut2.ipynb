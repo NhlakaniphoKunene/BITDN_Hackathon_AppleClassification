{
 "cells": [
  {
   "cell_type": "code",
   "execution_count": 1,
   "id": "d8f28842-94cf-4e2a-b2ff-a4b1ef5b5594",
   "metadata": {},
   "outputs": [],
   "source": [
    "# ___Cell no. 1___\n",
    "\n",
    "# Python packages \n",
    "import pandas as pd # for importing data into data frame format\n",
    "import seaborn as sns # For drawing useful graphs, such as bar graphs\n",
    "import numpy as np\n",
    "import matplotlib.pyplot as plt\n",
    "\n",
    "import sys\n",
    "sys.path.append(\"..\")\n",
    "from source.utils import split #  a pre-defined function to split the data into training and testing\n"
   ]
  },
  {
   "cell_type": "code",
   "execution_count": 2,
   "id": "d1a8c260-db8a-4dc7-9cee-ae3094d60080",
   "metadata": {},
   "outputs": [
    {
     "name": "stdout",
     "output_type": "stream",
     "text": [
      "(547, 2074)\n"
     ]
    }
   ],
   "source": [
    "%store -r Xgd\n",
    "%store -r Ygd\n",
    "%store -r gd\n",
    "print(Xgd.shape)"
   ]
  },
  {
   "cell_type": "code",
   "execution_count": 3,
   "id": "b5ebbc24-8d22-4c0d-9ee4-cc8394b9d709",
   "metadata": {},
   "outputs": [
    {
     "data": {
      "text/plain": [
       "0    0\n",
       "1    0\n",
       "2    1\n",
       "3    1\n",
       "4    0\n",
       "Name: Condition, dtype: int64"
      ]
     },
     "execution_count": 3,
     "metadata": {},
     "output_type": "execute_result"
    }
   ],
   "source": [
    "Ygd = Ygd.map({'S': 1, 'B': 0})\n",
    "Ygd.head()"
   ]
  },
  {
   "cell_type": "code",
   "execution_count": 4,
   "id": "4f6ea9ae-ab48-4560-908a-d27d0ba75d45",
   "metadata": {},
   "outputs": [],
   "source": [
    "#split data into train and test data\n",
    "\n",
    "Xgdtrain, Xgdtest, Ygdtrain, Ygdtest  = split(Xgd, Ygd)"
   ]
  },
  {
   "cell_type": "code",
   "execution_count": 5,
   "id": "fcd83e60-cb42-4018-a1d5-99b0dfca86c7",
   "metadata": {},
   "outputs": [],
   "source": [
    "#import the Logictic Regression tool to build our Baseline model or train\n",
    "from sklearn.linear_model import LogisticRegression"
   ]
  },
  {
   "cell_type": "code",
   "execution_count": 6,
   "id": "6aa31a90-5d3d-49ca-873d-7c2c743e22f2",
   "metadata": {},
   "outputs": [
    {
     "data": {
      "text/plain": [
       "LogisticRegression(random_state=0, solver='newton-cg')"
      ]
     },
     "execution_count": 6,
     "metadata": {},
     "output_type": "execute_result"
    }
   ],
   "source": [
    "LR = LogisticRegression(random_state=0, solver=\"newton-cg\") #defining the model\n",
    "LR.fit(Xgdtrain.values, Ygdtrain) # training the machine learning model"
   ]
  },
  {
   "cell_type": "code",
   "execution_count": 7,
   "id": "e53b6bfb-8719-47d4-aa3e-ea39e459df68",
   "metadata": {},
   "outputs": [],
   "source": [
    "# For testing the baseline model:\n",
    "#import the metrics for accuracy score and precision score\n",
    "\n",
    "from sklearn.metrics import accuracy_score, precision_score\n"
   ]
  },
  {
   "cell_type": "code",
   "execution_count": 9,
   "id": "8480f8be-493e-4a5f-aaba-25910eda16f3",
   "metadata": {},
   "outputs": [
    {
     "name": "stdout",
     "output_type": "stream",
     "text": [
      "Accuracy score is 0.8787878787878788\n"
     ]
    },
    {
     "name": "stderr",
     "output_type": "stream",
     "text": [
      "/opt/workshop/lib/python3.8/site-packages/sklearn/utils/validation.py:1688: FutureWarning: Feature names only support names that are all strings. Got feature names with dtypes: ['float']. An error will be raised in 1.2.\n",
      "  warnings.warn(\n"
     ]
    }
   ],
   "source": [
    "#create your prediction model\n",
    "#for the Accuracy score\n",
    "ygd_pred = LR.predict(Xgdtest)\n",
    "print(\"Accuracy score is\", accuracy_score(Ygdtest.values, ygd_pred))"
   ]
  },
  {
   "cell_type": "code",
   "execution_count": 10,
   "id": "8af498a5-d348-41ba-9570-26c866b671e8",
   "metadata": {},
   "outputs": [
    {
     "name": "stdout",
     "output_type": "stream",
     "text": [
      "Precision score is 0.8461538461538461\n"
     ]
    }
   ],
   "source": [
    "# for the precision score\n",
    "print(\"Precision score is\", precision_score(Ygdtest.values, ygd_pred))"
   ]
  },
  {
   "cell_type": "code",
   "execution_count": null,
   "id": "9c26f805-f0b0-4359-a091-351f3a2fd601",
   "metadata": {},
   "outputs": [],
   "source": []
  }
 ],
 "metadata": {
  "kernelspec": {
   "display_name": "Python 3",
   "language": "python",
   "name": "python3"
  },
  "language_info": {
   "codemirror_mode": {
    "name": "ipython",
    "version": 3
   },
   "file_extension": ".py",
   "mimetype": "text/x-python",
   "name": "python",
   "nbconvert_exporter": "python",
   "pygments_lexer": "ipython3",
   "version": "3.8.10"
  }
 },
 "nbformat": 4,
 "nbformat_minor": 5
}
