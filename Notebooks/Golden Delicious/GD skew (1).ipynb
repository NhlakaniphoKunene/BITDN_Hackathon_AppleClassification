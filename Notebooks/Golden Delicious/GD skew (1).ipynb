{
 "cells": [
  {
   "cell_type": "code",
   "execution_count": 8,
   "id": "a0e947b5-96da-4c2c-b853-09a8fb0d829e",
   "metadata": {},
   "outputs": [],
   "source": [
    "#recall our previously saved files (skew)\n",
    "%store -r Ygd\n",
    "%store -r Xgd_arrayRol_sk \n",
    "%store -r selected_GDindexes_sk \n",
    "\n",
    "#recall our previously saved files (mean)\n",
    "%store -r Ygd\n",
    "%store -r Xgd_arrayRol \n",
    "%store -r selected_GDindexes "
   ]
  },
  {
   "cell_type": "code",
   "execution_count": 9,
   "id": "818eeb01-462c-43d5-95bb-1da5ac626dc0",
   "metadata": {},
   "outputs": [
    {
     "data": {
      "text/plain": [
       "0      0\n",
       "1      0\n",
       "2      1\n",
       "3      1\n",
       "4      0\n",
       "      ..\n",
       "542    1\n",
       "543    0\n",
       "544    0\n",
       "545    1\n",
       "546    1\n",
       "Name: Condition, Length: 547, dtype: int64"
      ]
     },
     "execution_count": 9,
     "metadata": {},
     "output_type": "execute_result"
    }
   ],
   "source": [
    "#convert Y to boolean\n",
    "Ygd = Ygd.map({'S': 1, 'B': 0})\n",
    "Ygd"
   ]
  },
  {
   "cell_type": "code",
   "execution_count": 10,
   "id": "e4fa15a5-0229-4ee3-8a1f-aaa99dedbf0e",
   "metadata": {},
   "outputs": [],
   "source": [
    "#Importing Packages\n",
    "\n",
    "import sys\n",
    "sys.path.append(\"..\")\n",
    "####\n",
    "from sklearn.ensemble import RandomForestClassifier # a ML method\n",
    "from sklearn.metrics import accuracy_score, precision_score\n",
    "import numpy as np\n",
    "from source.utils import split #  a pre-defined function to split the data into training and testing|"
   ]
  },
  {
   "cell_type": "code",
   "execution_count": 18,
   "id": "c8ed0534-760b-4a11-8da7-c6f8b7ede8ba",
   "metadata": {},
   "outputs": [
    {
     "name": "stdout",
     "output_type": "stream",
     "text": [
      "(547, 207)\n",
      "(207,)\n",
      "X training shape:(382, 10)\n",
      "Notice that we reduced the number of features from 207 to 10\n",
      "precision score= 0.7534246575342466\n",
      "##########\n",
      "(547, 69)\n",
      "(69,)\n",
      "X training shape:(382, 10)\n",
      "Notice that we reduced the number of features from 69 to 10\n",
      "precision score= 0.788235294117647\n",
      "##########\n",
      "(547, 41)\n",
      "(41,)\n",
      "X training shape:(382, 10)\n",
      "Notice that we reduced the number of features from 41 to 10\n",
      "precision score= 0.782608695652174\n",
      "##########\n",
      "(547, 20)\n",
      "(20,)\n",
      "X training shape:(382, 10)\n",
      "Notice that we reduced the number of features from 20 to 10\n",
      "precision score= 0.8314606741573034\n",
      "##########\n"
     ]
    }
   ],
   "source": [
    "# ___Cell no. 4___\n",
    "\n",
    "acc_list_gd_sk = [] # a list to save the accuracy score for the 4 different datasets we have\n",
    "prec_list_gd_sk = [] # a list to save the precision score for the 4 different datasets we have\n",
    "for x_rol_sk,boolInd_gd_sk in zip (Xgd_arrayRol_sk, selected_GDindexes_sk):\n",
    "    print(x_rol_sk.shape)\n",
    "    print(boolInd_gd_sk.shape) # a boolean array to select the best 10 features\n",
    "    Xgd_sk_train, Xgd_sk_test, Ygd_sk_train, Ygd_sk_test  = split( x_rol_sk.values[:,boolInd_gd_sk], Ygd )\n",
    "    print(\"X training shape:\" + str(Xgd_sk_train.shape))\n",
    "    print(\"Notice that we reduced the number of features from \" + str(x_rol_sk.shape[1]) + \" to \" + str(Xgd_sk_train.shape[1]))\n",
    "    RF_gd_sk = RandomForestClassifier(random_state=0, n_estimators=500) #defining the model\n",
    "    RF_gd_sk.fit(Xgd_sk_train, Ygd_sk_train) # training the machine learning model\n",
    "    ygd_pred_sk = RF_gd_sk.predict(Xgd_sk_test)\n",
    "    \n",
    "#### Calculating the scores\n",
    "    prec_gd_sk = precision_score(Ygd_sk_test.values, ygd_pred_sk)\n",
    "    print(\"precision score= \"+str(prec_gd_sk))\n",
    "\n",
    "#### appending the score to a list\n",
    "    prec_list_gd_sk.append(prec_gd_sk) # append the precision score to a list.\n",
    "    \n",
    "#### Done\n",
    "    print('##########')"
   ]
  },
  {
   "cell_type": "code",
   "execution_count": 12,
   "id": "699cc5d7-dffd-49f5-bfb1-705925cd9143",
   "metadata": {},
   "outputs": [
    {
     "name": "stdout",
     "output_type": "stream",
     "text": [
      "(547, 207)\n",
      "(207,)\n",
      "X training shape:(382, 10)\n",
      "Notice that we reduced the number of features from 207 to 10\n",
      "precision score= 0.782608695652174\n",
      "##########\n",
      "(547, 69)\n",
      "(69,)\n",
      "X training shape:(382, 10)\n",
      "Notice that we reduced the number of features from 69 to 10\n",
      "precision score= 0.8021978021978022\n",
      "##########\n",
      "(547, 41)\n",
      "(41,)\n",
      "X training shape:(382, 10)\n",
      "Notice that we reduced the number of features from 41 to 10\n",
      "precision score= 0.7727272727272727\n",
      "##########\n",
      "(547, 20)\n",
      "(20,)\n",
      "X training shape:(382, 10)\n",
      "Notice that we reduced the number of features from 20 to 10\n",
      "precision score= 0.8\n",
      "##########\n"
     ]
    }
   ],
   "source": [
    "# ___Cell no. 4___\n",
    "\n",
    "acc_list_gd = [] # a list to save the accuracy score for the 4 different datasets we have\n",
    "prec_list_gd = [] # a list to save the precision score for the 4 different datasets we have\n",
    "for x_rol,boolInd_gd in zip (Xgd_arrayRol, selected_GDindexes):\n",
    "    print(x_rol.shape)\n",
    "    print(boolInd_gd.shape) # a boolean array to select the best 10 features\n",
    "    Xgdtrain, Xgdtest, Ygdtrain, Ygdtest  = split( x_rol.values[:,boolInd_gd], Ygd )\n",
    "    print(\"X training shape:\" + str(Xgdtrain.shape))\n",
    "    print(\"Notice that we reduced the number of features from \" + str(x_rol.shape[1]) + \" to \" + str(Xgdtrain.shape[1]))\n",
    "    RF_gd = RandomForestClassifier(random_state=0, n_estimators=500) #defining the model\n",
    "    RF_gd.fit(Xgdtrain, Ygdtrain) # training the machine learning model\n",
    "    ygd_pred = RF_gd.predict(Xgdtest)\n",
    "    \n",
    "#### Calculating the scores\n",
    "    prec_gd = precision_score(Ygdtest.values, ygd_pred)\n",
    "    print(\"precision score= \"+str(prec_gd))\n",
    "\n",
    "#### appending the score to a list\n",
    "    prec_list_gd.append(prec_gd) # append the precision score to a list.\n",
    "    \n",
    "#### Done\n",
    "    print('##########')"
   ]
  },
  {
   "cell_type": "code",
   "execution_count": 16,
   "id": "97474208-8271-4b11-9e20-6601003f4d2e",
   "metadata": {},
   "outputs": [
    {
     "name": "stdout",
     "output_type": "stream",
     "text": [
      "Now let us compare the Precision scores\n"
     ]
    },
    {
     "data": {
      "image/png": "[encoded data removed]",
      "text/plain": [
       "<Figure size 720x360 with 1 Axes>"
      ]
     },
     "metadata": {
      "needs_background": "light"
     },
     "output_type": "display_data"
    }
   ],
   "source": [
    "import matplotlib.pyplot as plt\n",
    "\n",
    "print(\"Now let us compare the Precision scores\")\n",
    "plt.figure(figsize=(10, 5))\n",
    "\n",
    "mystring = \"roll_\"\n",
    "    \n",
    "# We make the second curve dashed so that it doesn't cover up the first (mean)\n",
    "plt.scatter([ str(s) + \"_roll_best10\" for s in [10, 30, 50, 100] ], prec_list_gd, label = \"Precision RF for Golden Delicious (mean)\")\n",
    "plt.plot([ str(s) + \"_roll_best10\" for s in [10, 30, 50, 100] ], [0.764]*len(prec_list_gd), label = \"Precision Baseline\", color = \"black\")\n",
    "\n",
    "#skew\n",
    "plt.scatter([ str(s) + \"_roll_best10\" for s in [10, 30, 50, 100] ], prec_list_gd_sk, label = \"Precision RF for Golden Delicious (skew)\")\n",
    "#plt.plot([ str(s) + \"_roll_best10\" for s in [10, 30, 50, 100] ], [0.764]*len(prec_list_gd_sk), label = \"Precision Baseline\", color = \"black\")\n",
    "\n",
    "\n",
    "# plt.title(\"GD apples\", fontweight ='bold', fontsize =12)    \n",
    "plt.xlabel(\"Features with different rolling window sizes\", fontweight ='bold', fontsize =12)\n",
    "plt.ylabel(\"Precision score\", fontweight ='bold', fontsize =12)\n",
    "\n",
    "\n",
    "\n",
    "plt.legend()\n",
    "\n",
    "plt.show()"
   ]
  },
  {
   "cell_type": "code",
   "execution_count": null,
   "id": "576fd245-7074-4f60-94d5-0b0ed2c775b5",
   "metadata": {},
   "outputs": [],
   "source": []
  }
 ],
 "metadata": {
  "kernelspec": {
   "display_name": "Python 3",
   "language": "python",
   "name": "python3"
  },
  "language_info": {
   "codemirror_mode": {
    "name": "ipython",
    "version": 3
   },
   "file_extension": ".py",
   "mimetype": "text/x-python",
   "name": "python",
   "nbconvert_exporter": "python",
   "pygments_lexer": "ipython3",
   "version": "3.8.10"
  }
 },
 "nbformat": 4,
 "nbformat_minor": 5
}
